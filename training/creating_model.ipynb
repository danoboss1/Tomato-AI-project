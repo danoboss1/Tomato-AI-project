{
 "cells": [
  {
   "cell_type": "markdown",
   "id": "8e0fc36e-b387-471a-9c5c-36e88ec00581",
   "metadata": {},
   "source": [
    "# Importing dependencies"
   ]
  },
  {
   "cell_type": "code",
   "execution_count": 2,
   "id": "cd78f7ac-4e2d-41e6-8df0-c8675df35a4b",
   "metadata": {},
   "outputs": [],
   "source": [
    "import tensorflow as tf\n",
    "from tensorflow.keras import models, layers\n",
    "import numpy as np\n",
    "import matplotlib.pyplot as plt\n",
    "from IPython.display import HTML"
   ]
  },
  {
   "cell_type": "markdown",
   "id": "8576fb06-a315-4c1f-9170-1676d52619ca",
   "metadata": {},
   "source": [
    "### important\n",
    "Dont forget to install necessary libraries\n",
    "\n",
    "```\n",
    "pip install tensorflow keras numpy matplotlib ipython\n",
    "```"
   ]
  },
  {
   "cell_type": "markdown",
   "id": "b9e3761d-2831-4646-8f77-9d6e5e8c32f5",
   "metadata": {},
   "source": [
    "### usage of libraries\n",
    "**tensorflow** - various machine learning tasks, especially deep learning<br>\n",
    "**keras** - part of tensorflow, Python interface for artificial neural networks<br>\n",
    "**numpy** - fast scientific/numerical calculations<br>\n",
    "**matplotlib** - visual representations of data<br>\n",
    "**IPython** - utilities to display various media representations in Jupyter notebooks<br>"
   ]
  },
  {
   "cell_type": "markdown",
   "id": "24784ae4-787a-479d-9b3f-2a49d51b1e2b",
   "metadata": {},
   "source": [
    "# Loading data into tensorflow dataset object"
   ]
  },
  {
   "cell_type": "code",
   "execution_count": 6,
   "id": "e0c8dcca-8ca0-4ce1-a74f-711cc712edce",
   "metadata": {},
   "outputs": [],
   "source": [
    "BATCH_SIZE = 32\n",
    "IMAGE_SIZE = (256, 256)"
   ]
  },
  {
   "cell_type": "code",
   "execution_count": 7,
   "id": "25af5627-1240-4be8-9899-0256025295a3",
   "metadata": {},
   "outputs": [
    {
     "name": "stdout",
     "output_type": "stream",
     "text": [
      "Found 16011 files belonging to 10 classes.\n"
     ]
    }
   ],
   "source": [
    "dataset = tf.keras.preprocessing.image_dataset_from_directory(\n",
    "    \"PlantVillage\",\n",
    "    batch_size = BATCH_SIZE,\n",
    "    image_size = IMAGE_SIZE,\n",
    "    shuffle = True,\n",
    "    seed = 24\n",
    ")"
   ]
  },
  {
   "cell_type": "markdown",
   "id": "7d8ac18b-63b7-48a0-ad1e-be93f91fff45",
   "metadata": {},
   "source": [
    "# What is tensorflow Dataset?"
   ]
  },
  {
   "cell_type": "markdown",
   "id": "179b15d8-b5b7-4194-a732-c2c416f4725c",
   "metadata": {},
   "source": [
    "**tf Dataset** is a powerful framework designed to handle large datasets efficiently by loading data in batches and providing a lot of functions for preprocessing and data transformation, like filtering, mapping etc. "
   ]
  },
  {
   "cell_type": "code",
   "execution_count": 8,
   "id": "2c571bd3-368c-40b3-88d4-376b6b196b63",
   "metadata": {},
   "outputs": [
    {
     "data": {
      "text/plain": [
       "['Tomato_Bacterial_spot',\n",
       " 'Tomato_Early_blight',\n",
       " 'Tomato_Late_blight',\n",
       " 'Tomato_Leaf_Mold',\n",
       " 'Tomato_Septoria_leaf_spot',\n",
       " 'Tomato_Spider_mites_Two_spotted_spider_mite',\n",
       " 'Tomato__Target_Spot',\n",
       " 'Tomato__Tomato_YellowLeaf__Curl_Virus',\n",
       " 'Tomato__Tomato_mosaic_virus',\n",
       " 'Tomato_healthy']"
      ]
     },
     "execution_count": 8,
     "metadata": {},
     "output_type": "execute_result"
    }
   ],
   "source": [
    "class_names = dataset.class_names\n",
    "class_names"
   ]
  },
  {
   "cell_type": "code",
   "execution_count": null,
   "id": "c9505359-07d6-48d2-b363-1805913ceadb",
   "metadata": {},
   "outputs": [],
   "source": []
  }
 ],
 "metadata": {
  "kernelspec": {
   "display_name": "Python 3 (ipykernel)",
   "language": "python",
   "name": "python3"
  },
  "language_info": {
   "codemirror_mode": {
    "name": "ipython",
    "version": 3
   },
   "file_extension": ".py",
   "mimetype": "text/x-python",
   "name": "python",
   "nbconvert_exporter": "python",
   "pygments_lexer": "ipython3",
   "version": "3.11.0"
  }
 },
 "nbformat": 4,
 "nbformat_minor": 5
}
